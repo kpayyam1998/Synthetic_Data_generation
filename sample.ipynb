{
 "cells": [
  {
   "cell_type": "code",
   "execution_count": 17,
   "metadata": {},
   "outputs": [
    {
     "name": "stdout",
     "output_type": "stream",
     "text": [
      "hrllo\n"
     ]
    }
   ],
   "source": [
    "print(\"hrllo\")"
   ]
  },
  {
   "cell_type": "code",
   "execution_count": 18,
   "metadata": {},
   "outputs": [],
   "source": [
    "import os\n",
    "from dotenv import load_dotenv\n",
    "import openai\n",
    "key=os.getenv('OPENAI_API_KEY')\n",
    "openai.api_key = key"
   ]
  },
  {
   "cell_type": "code",
   "execution_count": 31,
   "metadata": {},
   "outputs": [
    {
     "name": "stdout",
     "output_type": "stream",
     "text": [
      "Collecting openai==0.28\n",
      "  Using cached openai-0.28.0-py3-none-any.whl.metadata (13 kB)\n",
      "Requirement already satisfied: requests>=2.20 in e:\\python\\new folder\\aiprojects\\synthetic_data_generation\\syn_data_env\\lib\\site-packages (from openai==0.28) (2.32.3)\n",
      "Requirement already satisfied: tqdm in e:\\python\\new folder\\aiprojects\\synthetic_data_generation\\syn_data_env\\lib\\site-packages (from openai==0.28) (4.66.4)\n",
      "Requirement already satisfied: aiohttp in e:\\python\\new folder\\aiprojects\\synthetic_data_generation\\syn_data_env\\lib\\site-packages (from openai==0.28) (3.9.5)\n",
      "Requirement already satisfied: charset-normalizer<4,>=2 in e:\\python\\new folder\\aiprojects\\synthetic_data_generation\\syn_data_env\\lib\\site-packages (from requests>=2.20->openai==0.28) (3.3.2)\n",
      "Requirement already satisfied: idna<4,>=2.5 in e:\\python\\new folder\\aiprojects\\synthetic_data_generation\\syn_data_env\\lib\\site-packages (from requests>=2.20->openai==0.28) (3.7)\n",
      "Requirement already satisfied: urllib3<3,>=1.21.1 in e:\\python\\new folder\\aiprojects\\synthetic_data_generation\\syn_data_env\\lib\\site-packages (from requests>=2.20->openai==0.28) (2.2.1)\n",
      "Requirement already satisfied: certifi>=2017.4.17 in e:\\python\\new folder\\aiprojects\\synthetic_data_generation\\syn_data_env\\lib\\site-packages (from requests>=2.20->openai==0.28) (2024.2.2)\n",
      "Requirement already satisfied: aiosignal>=1.1.2 in e:\\python\\new folder\\aiprojects\\synthetic_data_generation\\syn_data_env\\lib\\site-packages (from aiohttp->openai==0.28) (1.3.1)\n",
      "Requirement already satisfied: attrs>=17.3.0 in e:\\python\\new folder\\aiprojects\\synthetic_data_generation\\syn_data_env\\lib\\site-packages (from aiohttp->openai==0.28) (23.2.0)\n",
      "Requirement already satisfied: frozenlist>=1.1.1 in e:\\python\\new folder\\aiprojects\\synthetic_data_generation\\syn_data_env\\lib\\site-packages (from aiohttp->openai==0.28) (1.4.1)\n",
      "Requirement already satisfied: multidict<7.0,>=4.5 in e:\\python\\new folder\\aiprojects\\synthetic_data_generation\\syn_data_env\\lib\\site-packages (from aiohttp->openai==0.28) (6.0.5)\n",
      "Requirement already satisfied: yarl<2.0,>=1.0 in e:\\python\\new folder\\aiprojects\\synthetic_data_generation\\syn_data_env\\lib\\site-packages (from aiohttp->openai==0.28) (1.9.4)\n",
      "Requirement already satisfied: colorama in c:\\users\\arung\\appdata\\roaming\\python\\python312\\site-packages (from tqdm->openai==0.28) (0.4.6)\n",
      "Using cached openai-0.28.0-py3-none-any.whl (76 kB)\n",
      "Installing collected packages: openai\n",
      "  Attempting uninstall: openai\n",
      "    Found existing installation: openai 1.30.5\n",
      "    Uninstalling openai-1.30.5:\n",
      "      Successfully uninstalled openai-1.30.5\n",
      "Successfully installed openai-0.28.0\n"
     ]
    }
   ],
   "source": [
    "! pip install openai==0.28"
   ]
  },
  {
   "cell_type": "code",
   "execution_count": 32,
   "metadata": {},
   "outputs": [],
   "source": [
    "prompt=\"generate icecream sales data in json format\"\n",
    "response=openai.ChatCompletion.create(\n",
    "    model='gpt-3.5-turbo',\n",
    "    messages=[\n",
    "        {'role':'system','content':'you are a helpfull assistent'},\n",
    "        {'role':'user','content':prompt}\n",
    "    ],\n",
    "    max_tokens=130,\n",
    "    temperature=0.7,\n",
    "    top_p=1\n",
    "    \n",
    ")\n"
   ]
  },
  {
   "cell_type": "code",
   "execution_count": 41,
   "metadata": {},
   "outputs": [],
   "source": [
    "ans=response['choices'][0]['message']['content']"
   ]
  },
  {
   "cell_type": "code",
   "execution_count": 44,
   "metadata": {},
   "outputs": [
    {
     "data": {
      "text/plain": [
       "'Sure, here is an example of ice cream sales data in JSON format:```json{  \"sales_data\": [    {      \"flavor\": \"vanilla\",      \"quantity_sold\": 150,      \"revenue\": 300.00    },    {      \"flavor\": \"chocolate\",      \"quantity_sold\": 200,      \"revenue\": 400.00    },    {      \"flavor\": \"strawberry\",      \"quantity_sold\": 100,      \"revenue\": 200.00    }  ]}```This JSON data represents sales data'"
      ]
     },
     "execution_count": 44,
     "metadata": {},
     "output_type": "execute_result"
    }
   ],
   "source": [
    "ans.replace(\"\\n\", \"\")"
   ]
  },
  {
   "cell_type": "code",
   "execution_count": 25,
   "metadata": {},
   "outputs": [
    {
     "name": "stdout",
     "output_type": "stream",
     "text": [
      "JSON decoding failed: Expecting ':' delimiter: line 1 column 311 (char 310)\n"
     ]
    }
   ],
   "source": [
    "import re\n",
    "import json\n",
    "\n",
    "data = [\n",
    "    [\"{\", \"\\\"ice_cream_sales_data\\\":\", \"[\", \"{\", \"\\\"ice_cream_name\\\":\", \"\\\"Vanilla\\\",\", \"\\\"price\\\":\", \"3.99,\", \"\\\"perday_sales\\\":\", \"50,\", \"\\\"season\\\":\", \"\\\"Summer\\\",\", \"\\\"year\\\":\", \"2021,\", \"\\\"month\\\":\", \"\\\"June\\\",\", \"\\\"location\\\":\", \"\\\"New\", \"York\\\",\", \"\\\"review\\\":\", \"\\\"Delicious\", \"and\", \"creamy\\\"\", \"},\", \"{\", \"\\\"ice_cream_name\\\":\", \"\\\"Chocolate\\\",\", \"\\\"price\\\":\", \"4.49,\", \"\\\"perday_sales\\\":\", \"45,\", \"\\\"season\\\":\", \"\\\"Spring\\\",\", \"\\\"year\\\":\", \"2021,\", \"\\\"\"],\n",
    "    [\"```json\", \"{\", \"\\\"ice_cream_sales\\\":\", \"[\", \"{\", \"\\\"ice_cream_name\\\":\", \"\\\"Vanilla\\\",\", \"\\\"price\\\":\", \"2.50,\", \"\\\"perday_sales\\\":\", \"100,\", \"\\\"season\\\":\", \"\\\"Summer\\\",\", \"\\\"year\\\":\", \"2021,\", \"\\\"month\\\":\", \"\\\"July\\\",\", \"\\\"location\\\":\", \"\\\"New\", \"York\\\",\", \"\\\"review\\\":\", \"\\\"Delicious\", \"and\", \"creamy\\\"\", \"},\", \"{\", \"\\\"ice_cream_name\\\":\", \"\\\"Chocolate\\\",\", \"\\\"price\\\":\", \"3.00,\", \"\\\"perday_sales\\\":\", \"80,\", \"\\\"season\\\":\", \"\\\"Spring\\\",\", \"\\\"year\\\":\", \"2021,\"]\n",
    "]\n",
    "\n",
    "# Flatten the list of lists\n",
    "flat_data = [item for sublist in data for item in sublist]\n",
    "\n",
    "# Combine the list into a single string\n",
    "json_str = \" \".join(flat_data)\n",
    "\n",
    "# Remove unnecessary parts\n",
    "json_str = re.sub(r\"```json\", \"\", json_str)\n",
    "json_str = re.sub(r\",\\s*{\", \",{\", json_str)  # Fix comma placement\n",
    "json_str = re.sub(r\"\\[\\s*{\", \"[{\", json_str)  # Fix bracket placement\n",
    "\n",
    "# Handle incomplete keys or values\n",
    "json_str = json_str.replace('\\\"New York\\\",', '\\\"New York\\\",')\n",
    "\n",
    "# Remove extra spaces\n",
    "json_str = \" \".join(json_str.split())\n",
    "\n",
    "# Add closing brackets if needed\n",
    "if json_str.count('{') > json_str.count('}'):\n",
    "    json_str += '}'\n",
    "if json_str.count('[') > json_str.count(']'):\n",
    "    json_str += ']'\n",
    "\n",
    "# Ensure it starts with a brace and a proper key\n",
    "if not json_str.strip().startswith('{'):\n",
    "    json_str = '{' + json_str\n",
    "\n",
    "# Ensure it ends with a closing brace\n",
    "if not json_str.strip().endswith('}'):\n",
    "    json_str += '}'\n",
    "\n",
    "# Convert the cleaned JSON string to a dictionary\n",
    "try:\n",
    "    data_dict = json.loads(json_str)\n",
    "    print(data_dict)\n",
    "except json.JSONDecodeError as e:\n",
    "    print(\"JSON decoding failed:\", str(e))\n"
   ]
  },
  {
   "cell_type": "code",
   "execution_count": 32,
   "metadata": {},
   "outputs": [
    {
     "data": {
      "text/plain": [
       "str"
      ]
     },
     "execution_count": 32,
     "metadata": {},
     "output_type": "execute_result"
    }
   ],
   "source": [
    "type(json_str)"
   ]
  },
  {
   "cell_type": "code",
   "execution_count": 33,
   "metadata": {},
   "outputs": [],
   "source": [
    "import json\n",
    "dummy_response = r'{\"overriding_parameters\": {\"jar_params\": [\"{\\\"aggregationType\\\":\\\"Type1\\\",\\\"startDate\\\":\\\"2022-05-10\\\",\\\"endDate\\\":\\\"2022-05-10\\\"}\"]}}'\n",
    "dummy_dict = json.loads(dummy_response)"
   ]
  },
  {
   "cell_type": "code",
   "execution_count": 37,
   "metadata": {},
   "outputs": [
    {
     "data": {
      "text/plain": [
       "str"
      ]
     },
     "execution_count": 37,
     "metadata": {},
     "output_type": "execute_result"
    }
   ],
   "source": [
    "type(dummy_response)"
   ]
  },
  {
   "cell_type": "code",
   "execution_count": 38,
   "metadata": {},
   "outputs": [],
   "source": []
  },
  {
   "cell_type": "code",
   "execution_count": 57,
   "metadata": {},
   "outputs": [],
   "source": [
    "json_str=r''' \n",
    "{\n",
    "    \"ice_cream_sales_data\": \n",
    "    [\n",
    "        { \n",
    "            \"ice_cream_name\": \"Vanilla\", \n",
    "            \"price\": 3.99, \n",
    "            \"perday_sales\": 50,\n",
    "            \"season\": \"Summer\", \n",
    "            \"year\": 2021, \n",
    "            \"month\": \"June\", \n",
    "            \"location\": \"New York\", \n",
    "            \"review\": \"Delicious and creamy\"\n",
    "        },\n",
    "        { \n",
    "            \"ice_cream_name\": \"Chocolate\", \n",
    "            \"price\": 4.49, \n",
    "            \"perday_sales\": 45, \n",
    "            \"season\": \"Spring\", \n",
    "            \"year\": 2021 \n",
    "        }\n",
    "    ],\n",
    "        \"ice_cream_sales\": \n",
    "        [\n",
    "            { \n",
    "                \"ice_cream_name\": \"Vanilla\", \n",
    "                \"price\": 2.50, \n",
    "                \"perday_sales\": 100, \n",
    "                \"season\": \"Summer\", \n",
    "                \"year\": 2021, \n",
    "                \"month\": \"July\", \n",
    "                \"location\": \"New York\", \n",
    "                \"review\": \"Delicious and creamy\"\n",
    "            },\n",
    "            { \n",
    "                \"ice_cream_name\": \"Chocolate\", \n",
    "                \"price\": 3.00, \n",
    "                \"perday_sales\": 80, \n",
    "                \"season\": \"Spring\", \n",
    "                \"year\": 2021\n",
    "            }\n",
    "        ]\n",
    "    \n",
    "}'''\n"
   ]
  },
  {
   "cell_type": "code",
   "execution_count": 58,
   "metadata": {},
   "outputs": [
    {
     "data": {
      "text/plain": [
       "{'ice_cream_sales_data': [{'ice_cream_name': 'Vanilla',\n",
       "   'price': 3.99,\n",
       "   'perday_sales': 50,\n",
       "   'season': 'Summer',\n",
       "   'year': 2021,\n",
       "   'month': 'June',\n",
       "   'location': 'New York',\n",
       "   'review': 'Delicious and creamy'},\n",
       "  {'ice_cream_name': 'Chocolate',\n",
       "   'price': 4.49,\n",
       "   'perday_sales': 45,\n",
       "   'season': 'Spring',\n",
       "   'year': 2021}],\n",
       " 'ice_cream_sales': [{'ice_cream_name': 'Vanilla',\n",
       "   'price': 2.5,\n",
       "   'perday_sales': 100,\n",
       "   'season': 'Summer',\n",
       "   'year': 2021,\n",
       "   'month': 'July',\n",
       "   'location': 'New York',\n",
       "   'review': 'Delicious and creamy'},\n",
       "  {'ice_cream_name': 'Chocolate',\n",
       "   'price': 3.0,\n",
       "   'perday_sales': 80,\n",
       "   'season': 'Spring',\n",
       "   'year': 2021}]}"
      ]
     },
     "execution_count": 58,
     "metadata": {},
     "output_type": "execute_result"
    }
   ],
   "source": [
    "json_dict=json.loads(json_str)\n",
    "json_dict"
   ]
  },
  {
   "cell_type": "code",
   "execution_count": null,
   "metadata": {},
   "outputs": [],
   "source": []
  }
 ],
 "metadata": {
  "kernelspec": {
   "display_name": "Python 3",
   "language": "python",
   "name": "python3"
  },
  "language_info": {
   "codemirror_mode": {
    "name": "ipython",
    "version": 3
   },
   "file_extension": ".py",
   "mimetype": "text/x-python",
   "name": "python",
   "nbconvert_exporter": "python",
   "pygments_lexer": "ipython3",
   "version": "3.12.3"
  }
 },
 "nbformat": 4,
 "nbformat_minor": 2
}
